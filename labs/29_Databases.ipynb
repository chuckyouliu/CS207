{
 "cells": [
  {
   "cell_type": "code",
   "execution_count": 90,
   "metadata": {
    "collapsed": false
   },
   "outputs": [],
   "source": [
    "import os.path\n",
    "import sys\n",
    "class Database():\n",
    "    \n",
    "    def __init__(self, file):\n",
    "        self.file = file\n",
    "        self.byteorder=sys.byteorder\n",
    "        if not os.path.exists(file):\n",
    "            self.fd = open(file, \"xb+\", buffering=0)\n",
    "            self.index={}\n",
    "        else:\n",
    "            self.fd = open(file, \"r+b\", buffering=0)\n",
    "            with open(file+\".idx\") as fdi:\n",
    "                items = [l.strip().split(':') for l in fdi.readlines()]\n",
    "                self.index = {k:int(v) for k,v in items}\n",
    "        self.readptr = self.fd.tell()\n",
    "        self.fd.seek(0,2)\n",
    "        self.writeptr = self.fd.tell()\n",
    "        \n",
    "        \n",
    "    def set(self, x, v):\n",
    "        if not isinstance(x, str):\n",
    "            raise ValueError(\"Key must be a string\")\n",
    "        bin_x = x.encode('utf-8')\n",
    "        sz_x=len(bin_x).to_bytes(1, byteorder=self.byteorder)\n",
    "        if not isinstance(v, str):\n",
    "            raise ValueError(\"Value must be a string\")\n",
    "        bin_v = v.encode('utf-8')\n",
    "        sz_v=len(bin_v).to_bytes(1, byteorder=self.byteorder)\n",
    "        try:\n",
    "            self.index[x]=self.writeptr\n",
    "            self.fd.seek(self.writeptr)\n",
    "            print(\"currently\", self.fd.tell())\n",
    "            self.fd.write(sz_x+sz_v+bin_x+bin_v)\n",
    "        except:\n",
    "            del self.index[x]\n",
    "        else:\n",
    "            self.writeptr=self.fd.tell()\n",
    "            \n",
    "    def get(self, x):\n",
    "        try:\n",
    "            offset = self.index[x]\n",
    "        except:\n",
    "            raise ValueError(\"{} is not in index\".format(x))\n",
    "        bin_x = x.encode('utf-8')\n",
    "        print(\"offset is\", offset)\n",
    "        self.readptr=offset\n",
    "        self.fd.seek(self.readptr)\n",
    "        sz_k = int.from_bytes(self.fd.read(1), byteorder=self.byteorder)\n",
    "        sz_v = int.from_bytes(self.fd.read(1), byteorder=self.byteorder)\n",
    "        self.fd.seek(sz_k,1)\n",
    "        readit=self.fd.read(sz_v).decode('utf-8')\n",
    "        print(\"now\", self.fd.tell())\n",
    "        return readit\n",
    "    \n",
    "    def delete(self, x):\n",
    "        try:\n",
    "            offset = self.index[x]\n",
    "        except:\n",
    "            raise ValueError(\"{} is not in index\".format(x))\n",
    "        bin_x = x.encode('utf-8')\n",
    "        self.readptr=offset\n",
    "        self.fd.seek(self.readptr)\n",
    "        sz_k = int.from_bytes(self.fd.read(1), byteorder=self.byteorder)\n",
    "        sz_v = int.from_bytes(self.fd.read(1), byteorder=self.byteorder)\n",
    "        for k, v in self.index.items():\n",
    "            if v > offset:\n",
    "                self.index[k] -= sz_k + sz_v + 2\n",
    "        del(self.index[x])\n",
    "        self.fd.seek(sz_k + sz_v, 1)\n",
    "        db_vals = self.fd.readlines()\n",
    "        self.fd.seek(self.readptr)\n",
    "        for vals in db_vals:\n",
    "            self.fd.write(vals)\n",
    "        self.fd.truncate()\n",
    "        \n",
    "    def close(self):\n",
    "        fdi=open(self.file+\".idx\",\"w\")\n",
    "        fdi.write(\"\\n\".join([k+\":\"+str(v) for k,v in self.index.items()]))\n",
    "        fdi.close()\n",
    "        self.fd.close()\n",
    "        \n",
    "    def __del__(self):\n",
    "        self.fd.close()"
   ]
  },
  {
   "cell_type": "code",
   "execution_count": 91,
   "metadata": {
    "collapsed": true
   },
   "outputs": [],
   "source": [
    "!rm /tmp/test.db"
   ]
  },
  {
   "cell_type": "code",
   "execution_count": 92,
   "metadata": {
    "collapsed": false
   },
   "outputs": [
    {
     "name": "stdout",
     "output_type": "stream",
     "text": [
      "currently 0\n",
      "currently 11\n"
     ]
    }
   ],
   "source": [
    "db = Database(\"/tmp/test.db\")\n",
    "db.index\n",
    "db.set(\"test1\", \"val1\")\n",
    "db.set(\"test2\", \"val2\")"
   ]
  },
  {
   "cell_type": "code",
   "execution_count": 93,
   "metadata": {
    "collapsed": false
   },
   "outputs": [],
   "source": [
    "db.delete(\"test1\")"
   ]
  },
  {
   "cell_type": "code",
   "execution_count": 94,
   "metadata": {
    "collapsed": false
   },
   "outputs": [
    {
     "data": {
      "text/plain": [
       "{'test2': 0}"
      ]
     },
     "execution_count": 94,
     "metadata": {},
     "output_type": "execute_result"
    }
   ],
   "source": [
    "db.index"
   ]
  },
  {
   "cell_type": "code",
   "execution_count": 95,
   "metadata": {
    "collapsed": false
   },
   "outputs": [
    {
     "name": "stdout",
     "output_type": "stream",
     "text": [
      "offset is 0\n",
      "now 11\n"
     ]
    },
    {
     "data": {
      "text/plain": [
       "'val2'"
      ]
     },
     "execution_count": 95,
     "metadata": {},
     "output_type": "execute_result"
    }
   ],
   "source": [
    "db.get(\"test2\")"
   ]
  },
  {
   "cell_type": "markdown",
   "metadata": {},
   "source": [
    "Concurrency would break here since the file could be deleting an item simultaneously when another wants to access it"
   ]
  },
  {
   "cell_type": "markdown",
   "metadata": {},
   "source": [
    "## Today's exercises\n",
    "\n",
    "1. Implement deletion (to submit next monday)\n",
    "2. Think about concurrency issues inour little database"
   ]
  }
 ],
 "metadata": {
  "kernelspec": {
   "display_name": "Python 3",
   "language": "python",
   "name": "python3"
  },
  "language_info": {
   "codemirror_mode": {
    "name": "ipython",
    "version": 3
   },
   "file_extension": ".py",
   "mimetype": "text/x-python",
   "name": "python",
   "nbconvert_exporter": "python",
   "pygments_lexer": "ipython3",
   "version": "3.5.1"
  }
 },
 "nbformat": 4,
 "nbformat_minor": 0
}
